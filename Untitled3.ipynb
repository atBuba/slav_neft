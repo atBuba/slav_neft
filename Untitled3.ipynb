{
  "nbformat": 4,
  "nbformat_minor": 0,
  "metadata": {
    "colab": {
      "provenance": []
    },
    "kernelspec": {
      "name": "python3",
      "display_name": "Python 3"
    },
    "language_info": {
      "name": "python"
    }
  },
  "cells": [
    {
      "cell_type": "code",
      "source": [
        "import torch\n",
        "from torch.nn import MSELoss\n",
        "import numpy as np\n",
        "import matplotlib.pyplot as plt\n",
        "import random\n",
        "from tqdm import tqdm\n",
        "from multiprocessing import Process\n",
        "import multiprocessing\n",
        "from time import sleep"
      ],
      "metadata": {
        "id": "ggraQAnvTjEr"
      },
      "execution_count": null,
      "outputs": []
    },
    {
      "cell_type": "markdown",
      "source": [
        "из этого блока кода мы получаем 4 тензора\n",
        "Q_r - добыча по каждой скважене в каждый момент времени\n",
        "I - количество нагнитания флюида в каждой скважине в каждый момент времени\n",
        "I_1 - количество нагнитания флюида в каждой скважине в каждый момент времени а пераой скважине\n",
        "I_2 - количество нагнитания флюида в каждой скважине в каждый момент времени во второй скважине"
      ],
      "metadata": {
        "id": "jgob4Jgjrl1M"
      }
    },
    {
      "cell_type": "code",
      "source": [
        "# Заранее известный дебит\n",
        "def debit_true(x):\n",
        "    # Пусть 30 м3/сут - максимальный дебит. -> это 0003125 т/сут. Средняя плотность жидкости - 900 кг/м3\n",
        "    return 100 * torch.exp(torch.tensor(-1 / 10 * (x) ** (1 / 2)))\n",
        "\n",
        "\n",
        "\n",
        "# Заранее известный дебит\n",
        "def downhole_pressure_true(x):\n",
        "    return 100 * torch.exp(torch.tensor(-1 / 30 * (x) ** (1 / 2)))\n",
        "\n",
        "\n",
        "# Функций, генерирующая значения для второй задачи (со скачком приемистости)\n",
        "def data_for_second_task(n_t, N_inj=2, N_prod=2):\n",
        "    # Зададим заранее вычисленные значения дебита\n",
        "    noise = np.random.normal(-5, 5, n_t * N_prod) # шум\n",
        "    Q_r = np.array([[debit_true(i) for j in range(N_prod)] for i in range(n_t)]).ravel() + noise #настоящий дебит + шум (q с волной)\n",
        "    # Q_r = [debit_true(i)  for j in range(N_prod)]\n",
        "\n",
        "    #  ЗАДАДИМ КОЭФФИЦИЕНТЫ ДЛЯ ПЕРВОГО ПРИБЛИЖЕНИЯ\n",
        "    # Приемистость нагнетатнльных скважин. Пусть она постоянная I = [I_1, I_2]\n",
        "    I = [[170.0, 200.0] for i in range(n_t)]\n",
        "\n",
        "    # Моделирование задачи, описанной выше\n",
        "    for i in range(int(n_t / 2), n_t): #задаем нагнитания каждой нагнитающей скважине\n",
        "        I[i][0] = 500.0\n",
        "    for i in range(int(n_t / 2) + 2, n_t): #задаем добычу для каждой добывающей скважене\n",
        "        Q_r[2 * i] = Q_r[2 * i] + 60.0\n",
        "        Q_r[2 * i + 1] = Q_r[2 * i + 1] - 30.0\n",
        "\n",
        "        # Преобразуем данные для построеня графиков\n",
        "    I_1 = []\n",
        "    I_2 = []\n",
        "    Q_r1 = []\n",
        "    Q_r2 = []\n",
        "    for i in range(n_t):\n",
        "        I_1.append(I[i][0])\n",
        "        I_2.append(I[i][1])\n",
        "        Q_r1.append(Q_r[2 * i])\n",
        "        Q_r2.append(Q_r[2 * i + 1])\n",
        "    # Преобразование для Torch\n",
        "    I = torch.tensor(np.array(I).ravel())\n",
        "    Q_r = torch.tensor(np.array(Q_r).ravel())\n",
        "\n",
        "    p_w = torch.tensor(\n",
        "        np.array([[downhole_pressure_true(i) for j in range(N_prod)] for i in range(n_t)]).ravel() + noise)\n",
        "    return Q_r, I, I_1, I_2, p_w"
      ],
      "metadata": {
        "id": "thMyR98V8IjV"
      },
      "execution_count": null,
      "outputs": []
    },
    {
      "cell_type": "code",
      "execution_count": null,
      "metadata": {
        "id": "76c4gC7tSavt"
      },
      "outputs": [],
      "source": [
        "\n",
        "class Model_torch:\n",
        "    def __init__(self, Q_r, n_t, p_w, I, N_inj, N_prod, f_ij, T_ij, tau, J, w, a):\n",
        "        self.Q_r = Q_r\n",
        "        self.I = I\n",
        "        self.N_inj = N_inj\n",
        "        self.N_prod = N_prod\n",
        "        self.p_w = p_w\n",
        "        self.f_ij = f_ij\n",
        "        self.T_ij = T_ij\n",
        "        self.tau = tau\n",
        "        self.J = J\n",
        "        self.w = w\n",
        "        self.n_t = n_t\n",
        "        self.a = a\n",
        "        self.param = [self.I, self.n_t, self.p_w, self.N_inj, self.N_prod, self.f_ij, self.T_ij, self.tau, self.J, self.w]\n",
        "\n",
        "\n",
        "\n",
        "\n",
        "\n",
        "\n",
        "    def debit_tdp(self, q_tdp_tensor, param_func):#возрощает массив значений q на каждой скважине за каждый промежуток времени\n",
        "        I, n_t, p_w, N_inj, N_prod, f_ij, T_ij, tau, J, w = param_func\n",
        "        Q_tdp = [q_tdp_tensor[i] for i in range(N_prod * n_t)] #массив с известным дебитом\n",
        "        n_I = N_inj #количество нагнитательных скважин\n",
        "\n",
        "\n",
        "        summ_Tp = [\n",
        "            [sum([T_ij[N_prod * i + j] * (p_w[n + j] - p_w[n + i]) for j in range(N_prod)]) for i in range(0, N_prod)]\n",
        "            for n in range(N_prod, n_t * N_prod, N_prod)] # получаем массив размерности 1 на N_prod с ссуммой T_ij на каждомучастке времени\n",
        "        summ_fI = [[sum([f_ij[N_inj * i + j] * I[n_I + j] for j in range(N_inj)]) for i in range(0, N_prod)] for n_I in range(N_inj, n_t * N_inj, N_inj)]# получаем массив размерности 1 на N_prod с ссуммой  f_ij на каждомучастке времени\n",
        "\n",
        "        for n in range(N_prod, n_t * N_prod, N_prod):\n",
        "            Q_tdp[n: n + N_prod] = [Q_tdp[n + i - N_prod] * torch.exp(-1 / torch.tensor(tau[i])) + (\n",
        "                    torch.tensor(1.0) - torch.exp(-1 / torch.tensor(tau[i]))) * (w[i] + summ_Tp[int(n / N_prod) - 1][i] - J[i] * tau[i] * (p_w[n + i] - p_w[n + i - N_prod])) for i in range(0, N_prod)]\n",
        "            n_I += N_inj\n",
        "\n",
        "        return torch.tensor(Q_tdp)\n",
        "\n",
        "\n",
        "\n",
        "class Coordinate_method:\n",
        "\n",
        "    def __init__(self, model):\n",
        "      self.model = model\n",
        "      self.param = model.param\n",
        "\n",
        "\n",
        "    def f(self, q_tdp, q_0, i, d_tau, loss_fn):\n",
        "        with torch.no_grad():\n",
        "            self.model.tau[i] = self.model.tau[i] + d_tau\n",
        "        # Вычислим первое приближение функции потерь\n",
        "        q_tdp = self.model.debit_tdp(q_0.clone(), self.param, 0)\n",
        "        loss = loss_fn(q_0.float(), q_tdp.float()).mean(0)\n",
        "        # print(loss)\n",
        "        if float(loss[i] - loss_0[i]) < 0:\n",
        "            while float(loss[i] - loss_0[i]) < 0:\n",
        "                with torch.no_grad():\n",
        "                    self.model.tau[i] = self.model.tau[i] + d_tau * 0.96\n",
        "                q_tdp = self.model.debit_tdp(q_0.clone(), self.param, 0)\n",
        "                loss_0 = loss\n",
        "                loss = loss_fn(q_0, q_tdp).mean(0)\n",
        "                # print(f\"i:{i}\", loss)\n",
        "                # print(\"tau:\", self.model.tau)\n",
        "        else:\n",
        "            while float(loss[i] - loss_0[i]) > 0:\n",
        "                with torch.no_grad():\n",
        "                    self.model.tau[i] = self.model.tau[i] - d_tau * 0.96\n",
        "                # Вычислим первое приближение функции потерь\n",
        "                q_tdp = self.model.debit_tdp(q_0.clone(), self.param, 0)\n",
        "                loss_0 = loss\n",
        "                loss = loss_fn(q_0, q_tdp).mean(0)\n",
        "                # print(f\"i:{i}\", loss)\n",
        "                # print(\"tau:\", self.model.tau)\n",
        "\n",
        "\n",
        "    # Внутренняя часть метода покоординатного спуска\n",
        "    def coordinate_descent_iteration(self, q_0, num_of_iter, d_tau=1):\n",
        "        # Вычислим начально значение функции потерь\n",
        "        loss_fn = MSELoss(reduction='none')\n",
        "\n",
        "        q_tdp = self.model.debit_tdp(model.Q_r.clone(), self.param)\n",
        "        loss_0 = loss_fn(q_0, q_tdp).mean(0)\n",
        "        # print(loss_0)\n",
        "        loss = loss_0\n",
        "        \"\"\"for i in tqdm(range(self.model.tau.shape[0]), desc=f\"num_of_iter: {num_of_iter}, loss: {loss.mean()}\"):\n",
        "            # Внесем возмущение начальное\n",
        "            Process(target=f, args=(self, q_tdp, q_0, i, d_tau, loss_fn),).start()\"\"\"\n",
        "\n",
        "        with multiprocessing.Pool(model.a) as pool:\n",
        "            [pool.map(self.f, (q_tdp, q_0, i, d_tau, loss_fn))  for i in tqdm(range(self.model.tau.shape[0]), desc=f\"num_of_iter: {num_of_iter}, loss: {loss.mean()}\")]\n",
        "\n",
        "        # Метод покоординатного спускa\n",
        "    def coordinate_descent(self, q_0):\n",
        "        # Распакуем нужные параметры\n",
        "        num_of_iter = 1\n",
        "        for i in range(0, 2):\n",
        "            self.coordinate_descent_iteration(q_0, num_of_iter, d_tau=1 / (10 ^ i))\n",
        "            num_of_iter += 1\n",
        "\n",
        "\n"
      ]
    },
    {
      "cell_type": "code",
      "source": [
        "n_t = 10\n",
        "Q_r, I, I_1, I_2, p_w = data_for_second_task(n_t)\n",
        "f_ij = [ 0.15570971, 0.21490252, -0.13489538, 0.46042526]\n",
        "T_ij = [ 9.33907774, 0.64393824, -0.8069377, 0.46431708]\n",
        "tau = torch.tensor([3.165141, 2.739353])\n",
        "J = [-1.2969877, 0.0192934]\n",
        "w = [1, 1]\n",
        "N_inj, N_prod = 2, 2\n",
        "a = 2\n",
        "\n",
        "model = Model_torch(Q_r, n_t, p_w, I, N_inj, N_prod, f_ij, T_ij, tau, J, w, a)\n",
        "\n",
        "coordinate = Coordinate_method(model)\n",
        "coordinate.coordinate_descent(Q_r)"
      ],
      "metadata": {
        "id": "TFxTdZSYTe0A",
        "colab": {
          "base_uri": "https://localhost:8080/",
          "height": 740
        },
        "outputId": "73568f6c-153a-4e1e-91e3-e641aacdb119"
      },
      "execution_count": null,
      "outputs": [
        {
          "output_type": "stream",
          "name": "stderr",
          "text": [
            "<ipython-input-12-9357fea227d8>:35: UserWarning: To copy construct from a tensor, it is recommended to use sourceTensor.clone().detach() or sourceTensor.clone().detach().requires_grad_(True), rather than torch.tensor(sourceTensor).\n",
            "  Q_tdp[n: n + N_prod] = [Q_tdp[n + i - N_prod] * torch.exp(-1 / torch.tensor(tau[i])) + (\n",
            "<ipython-input-12-9357fea227d8>:36: UserWarning: To copy construct from a tensor, it is recommended to use sourceTensor.clone().detach() or sourceTensor.clone().detach().requires_grad_(True), rather than torch.tensor(sourceTensor).\n",
            "  torch.tensor(1.0) - torch.exp(-1 / torch.tensor(tau[i]))) * (w[i] + summ_Tp[int(n / N_prod) - 1][i] - J[i] * tau[i] * (p_w[n + i] - p_w[n + i - N_prod])) for i in range(0, N_prod)]\n",
            "\n",
            "\n",
            "\n",
            "num_of_iter: 1, loss: 4187.877229445936:   0%|          | 0/2 [00:00<?, ?it/s]\u001b[A\u001b[A\u001b[A"
          ]
        },
        {
          "output_type": "error",
          "ename": "TypeError",
          "evalue": "ignored",
          "traceback": [
            "\u001b[0;31m---------------------------------------------------------------------------\u001b[0m",
            "\u001b[0;31mRemoteTraceback\u001b[0m                           Traceback (most recent call last)",
            "\u001b[0;31mRemoteTraceback\u001b[0m: \n\"\"\"\nTraceback (most recent call last):\n  File \"/usr/lib/python3.10/multiprocessing/pool.py\", line 125, in worker\n    result = (True, func(*args, **kwds))\n  File \"/usr/lib/python3.10/multiprocessing/pool.py\", line 48, in mapstar\n    return list(map(*args))\nTypeError: Coordinate_method.f() missing 4 required positional arguments: 'q_0', 'i', 'd_tau', and 'loss_fn'\n\"\"\"",
            "\nThe above exception was the direct cause of the following exception:\n",
            "\u001b[0;31mTypeError\u001b[0m                                 Traceback (most recent call last)",
            "\u001b[0;32m<ipython-input-13-0876d15e2d66>\u001b[0m in \u001b[0;36m<cell line: 14>\u001b[0;34m()\u001b[0m\n\u001b[1;32m     12\u001b[0m \u001b[0;34m\u001b[0m\u001b[0m\n\u001b[1;32m     13\u001b[0m \u001b[0mcoordinate\u001b[0m \u001b[0;34m=\u001b[0m \u001b[0mCoordinate_method\u001b[0m\u001b[0;34m(\u001b[0m\u001b[0mmodel\u001b[0m\u001b[0;34m)\u001b[0m\u001b[0;34m\u001b[0m\u001b[0;34m\u001b[0m\u001b[0m\n\u001b[0;32m---> 14\u001b[0;31m \u001b[0mcoordinate\u001b[0m\u001b[0;34m.\u001b[0m\u001b[0mcoordinate_descent\u001b[0m\u001b[0;34m(\u001b[0m\u001b[0mQ_r\u001b[0m\u001b[0;34m)\u001b[0m\u001b[0;34m\u001b[0m\u001b[0;34m\u001b[0m\u001b[0m\n\u001b[0m",
            "\u001b[0;32m<ipython-input-12-9357fea227d8>\u001b[0m in \u001b[0;36mcoordinate_descent\u001b[0;34m(self, q_0)\u001b[0m\n\u001b[1;32m     97\u001b[0m         \u001b[0mnum_of_iter\u001b[0m \u001b[0;34m=\u001b[0m \u001b[0;36m1\u001b[0m\u001b[0;34m\u001b[0m\u001b[0;34m\u001b[0m\u001b[0m\n\u001b[1;32m     98\u001b[0m         \u001b[0;32mfor\u001b[0m \u001b[0mi\u001b[0m \u001b[0;32min\u001b[0m \u001b[0mrange\u001b[0m\u001b[0;34m(\u001b[0m\u001b[0;36m0\u001b[0m\u001b[0;34m,\u001b[0m \u001b[0;36m2\u001b[0m\u001b[0;34m)\u001b[0m\u001b[0;34m:\u001b[0m\u001b[0;34m\u001b[0m\u001b[0;34m\u001b[0m\u001b[0m\n\u001b[0;32m---> 99\u001b[0;31m             \u001b[0mself\u001b[0m\u001b[0;34m.\u001b[0m\u001b[0mcoordinate_descent_iteration\u001b[0m\u001b[0;34m(\u001b[0m\u001b[0mq_0\u001b[0m\u001b[0;34m,\u001b[0m \u001b[0mnum_of_iter\u001b[0m\u001b[0;34m,\u001b[0m \u001b[0md_tau\u001b[0m\u001b[0;34m=\u001b[0m\u001b[0;36m1\u001b[0m \u001b[0;34m/\u001b[0m \u001b[0;34m(\u001b[0m\u001b[0;36m10\u001b[0m \u001b[0;34m^\u001b[0m \u001b[0mi\u001b[0m\u001b[0;34m)\u001b[0m\u001b[0;34m)\u001b[0m\u001b[0;34m\u001b[0m\u001b[0;34m\u001b[0m\u001b[0m\n\u001b[0m\u001b[1;32m    100\u001b[0m             \u001b[0mnum_of_iter\u001b[0m \u001b[0;34m+=\u001b[0m \u001b[0;36m1\u001b[0m\u001b[0;34m\u001b[0m\u001b[0;34m\u001b[0m\u001b[0m\n\u001b[1;32m    101\u001b[0m \u001b[0;34m\u001b[0m\u001b[0m\n",
            "\u001b[0;32m<ipython-input-12-9357fea227d8>\u001b[0m in \u001b[0;36mcoordinate_descent_iteration\u001b[0;34m(self, q_0, num_of_iter, d_tau)\u001b[0m\n\u001b[1;32m     90\u001b[0m \u001b[0;34m\u001b[0m\u001b[0m\n\u001b[1;32m     91\u001b[0m         \u001b[0;32mwith\u001b[0m \u001b[0mmultiprocessing\u001b[0m\u001b[0;34m.\u001b[0m\u001b[0mPool\u001b[0m\u001b[0;34m(\u001b[0m\u001b[0mmodel\u001b[0m\u001b[0;34m.\u001b[0m\u001b[0ma\u001b[0m\u001b[0;34m)\u001b[0m \u001b[0;32mas\u001b[0m \u001b[0mpool\u001b[0m\u001b[0;34m:\u001b[0m\u001b[0;34m\u001b[0m\u001b[0;34m\u001b[0m\u001b[0m\n\u001b[0;32m---> 92\u001b[0;31m             \u001b[0;34m[\u001b[0m\u001b[0mpool\u001b[0m\u001b[0;34m.\u001b[0m\u001b[0mmap\u001b[0m\u001b[0;34m(\u001b[0m\u001b[0mself\u001b[0m\u001b[0;34m.\u001b[0m\u001b[0mf\u001b[0m\u001b[0;34m,\u001b[0m \u001b[0;34m(\u001b[0m\u001b[0mq_tdp\u001b[0m\u001b[0;34m,\u001b[0m \u001b[0mq_0\u001b[0m\u001b[0;34m,\u001b[0m \u001b[0mi\u001b[0m\u001b[0;34m,\u001b[0m \u001b[0md_tau\u001b[0m\u001b[0;34m,\u001b[0m \u001b[0mloss_fn\u001b[0m\u001b[0;34m)\u001b[0m\u001b[0;34m)\u001b[0m  \u001b[0;32mfor\u001b[0m \u001b[0mi\u001b[0m \u001b[0;32min\u001b[0m \u001b[0mtqdm\u001b[0m\u001b[0;34m(\u001b[0m\u001b[0mrange\u001b[0m\u001b[0;34m(\u001b[0m\u001b[0mself\u001b[0m\u001b[0;34m.\u001b[0m\u001b[0mmodel\u001b[0m\u001b[0;34m.\u001b[0m\u001b[0mtau\u001b[0m\u001b[0;34m.\u001b[0m\u001b[0mshape\u001b[0m\u001b[0;34m[\u001b[0m\u001b[0;36m0\u001b[0m\u001b[0;34m]\u001b[0m\u001b[0;34m)\u001b[0m\u001b[0;34m,\u001b[0m \u001b[0mdesc\u001b[0m\u001b[0;34m=\u001b[0m\u001b[0;34mf\"num_of_iter: {num_of_iter}, loss: {loss.mean()}\"\u001b[0m\u001b[0;34m)\u001b[0m\u001b[0;34m]\u001b[0m\u001b[0;34m\u001b[0m\u001b[0;34m\u001b[0m\u001b[0m\n\u001b[0m\u001b[1;32m     93\u001b[0m \u001b[0;34m\u001b[0m\u001b[0m\n\u001b[1;32m     94\u001b[0m         \u001b[0;31m# Метод покоординатного спускa\u001b[0m\u001b[0;34m\u001b[0m\u001b[0;34m\u001b[0m\u001b[0m\n",
            "\u001b[0;32m<ipython-input-12-9357fea227d8>\u001b[0m in \u001b[0;36m<listcomp>\u001b[0;34m(.0)\u001b[0m\n\u001b[1;32m     90\u001b[0m \u001b[0;34m\u001b[0m\u001b[0m\n\u001b[1;32m     91\u001b[0m         \u001b[0;32mwith\u001b[0m \u001b[0mmultiprocessing\u001b[0m\u001b[0;34m.\u001b[0m\u001b[0mPool\u001b[0m\u001b[0;34m(\u001b[0m\u001b[0mmodel\u001b[0m\u001b[0;34m.\u001b[0m\u001b[0ma\u001b[0m\u001b[0;34m)\u001b[0m \u001b[0;32mas\u001b[0m \u001b[0mpool\u001b[0m\u001b[0;34m:\u001b[0m\u001b[0;34m\u001b[0m\u001b[0;34m\u001b[0m\u001b[0m\n\u001b[0;32m---> 92\u001b[0;31m             \u001b[0;34m[\u001b[0m\u001b[0mpool\u001b[0m\u001b[0;34m.\u001b[0m\u001b[0mmap\u001b[0m\u001b[0;34m(\u001b[0m\u001b[0mself\u001b[0m\u001b[0;34m.\u001b[0m\u001b[0mf\u001b[0m\u001b[0;34m,\u001b[0m \u001b[0;34m(\u001b[0m\u001b[0mq_tdp\u001b[0m\u001b[0;34m,\u001b[0m \u001b[0mq_0\u001b[0m\u001b[0;34m,\u001b[0m \u001b[0mi\u001b[0m\u001b[0;34m,\u001b[0m \u001b[0md_tau\u001b[0m\u001b[0;34m,\u001b[0m \u001b[0mloss_fn\u001b[0m\u001b[0;34m)\u001b[0m\u001b[0;34m)\u001b[0m  \u001b[0;32mfor\u001b[0m \u001b[0mi\u001b[0m \u001b[0;32min\u001b[0m \u001b[0mtqdm\u001b[0m\u001b[0;34m(\u001b[0m\u001b[0mrange\u001b[0m\u001b[0;34m(\u001b[0m\u001b[0mself\u001b[0m\u001b[0;34m.\u001b[0m\u001b[0mmodel\u001b[0m\u001b[0;34m.\u001b[0m\u001b[0mtau\u001b[0m\u001b[0;34m.\u001b[0m\u001b[0mshape\u001b[0m\u001b[0;34m[\u001b[0m\u001b[0;36m0\u001b[0m\u001b[0;34m]\u001b[0m\u001b[0;34m)\u001b[0m\u001b[0;34m,\u001b[0m \u001b[0mdesc\u001b[0m\u001b[0;34m=\u001b[0m\u001b[0;34mf\"num_of_iter: {num_of_iter}, loss: {loss.mean()}\"\u001b[0m\u001b[0;34m)\u001b[0m\u001b[0;34m]\u001b[0m\u001b[0;34m\u001b[0m\u001b[0;34m\u001b[0m\u001b[0m\n\u001b[0m\u001b[1;32m     93\u001b[0m \u001b[0;34m\u001b[0m\u001b[0m\n\u001b[1;32m     94\u001b[0m         \u001b[0;31m# Метод покоординатного спускa\u001b[0m\u001b[0;34m\u001b[0m\u001b[0;34m\u001b[0m\u001b[0m\n",
            "\u001b[0;32m/usr/lib/python3.10/multiprocessing/pool.py\u001b[0m in \u001b[0;36mmap\u001b[0;34m(self, func, iterable, chunksize)\u001b[0m\n\u001b[1;32m    365\u001b[0m         \u001b[0;32min\u001b[0m \u001b[0ma\u001b[0m \u001b[0mlist\u001b[0m \u001b[0mthat\u001b[0m \u001b[0;32mis\u001b[0m \u001b[0mreturned\u001b[0m\u001b[0;34m.\u001b[0m\u001b[0;34m\u001b[0m\u001b[0;34m\u001b[0m\u001b[0m\n\u001b[1;32m    366\u001b[0m         '''\n\u001b[0;32m--> 367\u001b[0;31m         \u001b[0;32mreturn\u001b[0m \u001b[0mself\u001b[0m\u001b[0;34m.\u001b[0m\u001b[0m_map_async\u001b[0m\u001b[0;34m(\u001b[0m\u001b[0mfunc\u001b[0m\u001b[0;34m,\u001b[0m \u001b[0miterable\u001b[0m\u001b[0;34m,\u001b[0m \u001b[0mmapstar\u001b[0m\u001b[0;34m,\u001b[0m \u001b[0mchunksize\u001b[0m\u001b[0;34m)\u001b[0m\u001b[0;34m.\u001b[0m\u001b[0mget\u001b[0m\u001b[0;34m(\u001b[0m\u001b[0;34m)\u001b[0m\u001b[0;34m\u001b[0m\u001b[0;34m\u001b[0m\u001b[0m\n\u001b[0m\u001b[1;32m    368\u001b[0m \u001b[0;34m\u001b[0m\u001b[0m\n\u001b[1;32m    369\u001b[0m     \u001b[0;32mdef\u001b[0m \u001b[0mstarmap\u001b[0m\u001b[0;34m(\u001b[0m\u001b[0mself\u001b[0m\u001b[0;34m,\u001b[0m \u001b[0mfunc\u001b[0m\u001b[0;34m,\u001b[0m \u001b[0miterable\u001b[0m\u001b[0;34m,\u001b[0m \u001b[0mchunksize\u001b[0m\u001b[0;34m=\u001b[0m\u001b[0;32mNone\u001b[0m\u001b[0;34m)\u001b[0m\u001b[0;34m:\u001b[0m\u001b[0;34m\u001b[0m\u001b[0;34m\u001b[0m\u001b[0m\n",
            "\u001b[0;32m/usr/lib/python3.10/multiprocessing/pool.py\u001b[0m in \u001b[0;36mget\u001b[0;34m(self, timeout)\u001b[0m\n\u001b[1;32m    772\u001b[0m             \u001b[0;32mreturn\u001b[0m \u001b[0mself\u001b[0m\u001b[0;34m.\u001b[0m\u001b[0m_value\u001b[0m\u001b[0;34m\u001b[0m\u001b[0;34m\u001b[0m\u001b[0m\n\u001b[1;32m    773\u001b[0m         \u001b[0;32melse\u001b[0m\u001b[0;34m:\u001b[0m\u001b[0;34m\u001b[0m\u001b[0;34m\u001b[0m\u001b[0m\n\u001b[0;32m--> 774\u001b[0;31m             \u001b[0;32mraise\u001b[0m \u001b[0mself\u001b[0m\u001b[0;34m.\u001b[0m\u001b[0m_value\u001b[0m\u001b[0;34m\u001b[0m\u001b[0;34m\u001b[0m\u001b[0m\n\u001b[0m\u001b[1;32m    775\u001b[0m \u001b[0;34m\u001b[0m\u001b[0m\n\u001b[1;32m    776\u001b[0m     \u001b[0;32mdef\u001b[0m \u001b[0m_set\u001b[0m\u001b[0;34m(\u001b[0m\u001b[0mself\u001b[0m\u001b[0;34m,\u001b[0m \u001b[0mi\u001b[0m\u001b[0;34m,\u001b[0m \u001b[0mobj\u001b[0m\u001b[0;34m)\u001b[0m\u001b[0;34m:\u001b[0m\u001b[0;34m\u001b[0m\u001b[0;34m\u001b[0m\u001b[0m\n",
            "\u001b[0;31mTypeError\u001b[0m: Coordinate_method.f() missing 4 required positional arguments: 'q_0', 'i', 'd_tau', and 'loss_fn'"
          ]
        }
      ]
    },
    {
      "cell_type": "code",
      "source": [
        "for i in tqdm(range(100), ncols=80, ascii=True, desc='Total'):\n",
        "    sleep(0.1)"
      ],
      "metadata": {
        "id": "ElZp09idCHP6"
      },
      "execution_count": null,
      "outputs": []
    }
  ]
}